{
 "cells": [
  {
   "cell_type": "code",
   "execution_count": null,
   "metadata": {
    "collapsed": true
   },
   "outputs": [],
   "source": [
    "%matplotlib inline\n",
    "from __future__ import print_function\n",
    "import matplotlib.pyplot as plt\n",
    "import pymfit "
   ]
  },
  {
   "cell_type": "code",
   "execution_count": null,
   "metadata": {
    "collapsed": true
   },
   "outputs": [],
   "source": [
    "# // do cutout stuff"
   ]
  },
  {
   "cell_type": "markdown",
   "metadata": {},
   "source": [
    "# Creating the model\n",
    "\n",
    "A multicomponent model is divided at two levels: the objects being modeled (which may have different positions), and the component functions that describe each object model.\n",
    "\n",
    "First, let's initialize and empty MultiComponentModel that we'll use to fit one object with a double Sersic."
   ]
  },
  {
   "cell_type": "code",
   "execution_count": null,
   "metadata": {},
   "outputs": [],
   "source": [
    "mcm = pymfit.MultiComponentModel ()\n",
    "\n",
    "#// Add the object\n",
    "mcm.add_object ( img_shape = image.getImage().getArray().shape )\n",
    "mcm.add_component ( objnumer=0, funcname='Sersic', init_params=init_params_c1 )\n",
    "mcm.add_component ( 0, 'Sersic', init_params_c2 )\n",
    "\n",
    "#// Now, write the imfit config file \n",
    "pymfit.write_multicomponentconfig ( config_fn, mcm )\n",
    "\n",
    "#// Finally, run pymfit as usual.\n",
    "pymfit.run(img_fn+'[1]', \n",
    "           config_fn=config_fn, \n",
    "           mask_fn=mask_fn, \n",
    "           var_fn=img_fn+'[3]', \n",
    "           out_fn='multicomponentfit.out' )\n"
   ]
  },
  {
   "cell_type": "markdown",
   "metadata": {},
   "source": [
    "# Visualizing the Model\n",
    "\n",
    "We can visualize a multicomponent model with functions of the same name as those used for the single Sersic case:"
   ]
  },
  {
   "cell_type": "code",
   "execution_count": null,
   "metadata": {
    "collapsed": true
   },
   "outputs": [],
   "source": [
    "#// Read in the multicomponent imfit output file to construct the MultiComponentResults instance.\n",
    "ourmodel = pymfit.read_multicomponentresults ('multicomponentfit.out')\n",
    "\n",
    "model_array = ourmodel.array ( image.getImage().getArray().shape )\n",
    "residual = image.getImage().getArray() - model_array\n",
    "\n",
    "\n"
   ]
  }
 ],
 "metadata": {
  "kernelspec": {
   "display_name": "Python 2",
   "language": "python",
   "name": "python2"
  },
  "language_info": {
   "codemirror_mode": {
    "name": "ipython",
    "version": 2
   },
   "file_extension": ".py",
   "mimetype": "text/x-python",
   "name": "python",
   "nbconvert_exporter": "python",
   "pygments_lexer": "ipython2",
   "version": "2.7.12"
  }
 },
 "nbformat": 4,
 "nbformat_minor": 2
}
